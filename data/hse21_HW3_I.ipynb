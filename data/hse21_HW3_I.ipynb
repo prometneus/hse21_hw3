{
  "cells": [
    {
      "cell_type": "markdown",
      "metadata": {
        "id": "3rFZS5A_yy1o"
      },
      "source": [
        "# Подготовка файлов и программ"
      ]
    },
    {
      "cell_type": "markdown",
      "metadata": {
        "id": "7DFpK_Pf1hAX"
      },
      "source": [
        "## Установка HISAT2 (для выравниваия RNA-seq чтений на геном)"
      ]
    },
    {
      "cell_type": "code",
      "execution_count": null,
      "metadata": {
        "id": "WS21uIX63ehw",
        "colab": {
          "base_uri": "https://localhost:8080/"
        },
        "outputId": "f3bc8021-4ac2-47da-c075-c204f33eddcb"
      },
      "outputs": [
        {
          "output_type": "stream",
          "name": "stdout",
          "text": [
            "Hit:1 https://cloud.r-project.org/bin/linux/ubuntu bionic-cran40/ InRelease\n",
            "Ign:2 https://developer.download.nvidia.com/compute/cuda/repos/ubuntu1804/x86_64  InRelease\n",
            "Hit:3 http://ppa.launchpad.net/c2d4u.team/c2d4u4.0+/ubuntu bionic InRelease\n",
            "Get:4 http://security.ubuntu.com/ubuntu bionic-security InRelease [88.7 kB]\n",
            "Ign:5 https://developer.download.nvidia.com/compute/machine-learning/repos/ubuntu1804/x86_64  InRelease\n",
            "Hit:6 http://archive.ubuntu.com/ubuntu bionic InRelease\n",
            "Hit:7 https://developer.download.nvidia.com/compute/cuda/repos/ubuntu1804/x86_64  Release\n",
            "Hit:8 https://developer.download.nvidia.com/compute/machine-learning/repos/ubuntu1804/x86_64  Release\n",
            "Get:9 http://archive.ubuntu.com/ubuntu bionic-updates InRelease [88.7 kB]\n",
            "Hit:10 http://ppa.launchpad.net/cran/libgit2/ubuntu bionic InRelease\n",
            "Hit:11 http://ppa.launchpad.net/deadsnakes/ppa/ubuntu bionic InRelease\n",
            "Get:12 http://archive.ubuntu.com/ubuntu bionic-backports InRelease [74.6 kB]\n",
            "Hit:13 http://ppa.launchpad.net/graphics-drivers/ppa/ubuntu bionic InRelease\n",
            "Get:16 http://archive.ubuntu.com/ubuntu bionic-updates/main amd64 Packages [2,898 kB]\n",
            "Get:17 http://archive.ubuntu.com/ubuntu bionic-updates/universe amd64 Packages [2,228 kB]\n",
            "Fetched 5,379 kB in 3s (1,727 kB/s)\n",
            "Reading package lists... Done\n"
          ]
        }
      ],
      "source": [
        "!apt-get update"
      ]
    },
    {
      "cell_type": "code",
      "execution_count": null,
      "metadata": {
        "id": "3md6cslv3is6",
        "colab": {
          "base_uri": "https://localhost:8080/"
        },
        "outputId": "0f7201b9-f0fa-413b-e589-f2fd698bcc43"
      },
      "outputs": [
        {
          "output_type": "stream",
          "name": "stdout",
          "text": [
            "Reading package lists... Done\n",
            "Building dependency tree       \n",
            "Reading state information... Done\n",
            "hisat2 is already the newest version (2.1.0-1).\n",
            "0 upgraded, 0 newly installed, 0 to remove and 58 not upgraded.\n"
          ]
        }
      ],
      "source": [
        "!apt-get install hisat2"
      ]
    },
    {
      "cell_type": "code",
      "execution_count": null,
      "metadata": {
        "id": "6-Eyz3aD3m8-",
        "colab": {
          "base_uri": "https://localhost:8080/"
        },
        "outputId": "1f706aca-c14c-4b15-9785-f26514fbc01d"
      },
      "outputs": [
        {
          "output_type": "stream",
          "name": "stdout",
          "text": [
            "/usr/bin/hisat2-align-s version 2.1.0\n",
            "64-bit\n",
            "Built on Debian unstable\n",
            "Mon Sep  4 12:49:40 UTC 2017\n",
            "Compiler: gcc version 7.2.0 (Ubuntu 7.2.0-12ubuntu1) \n",
            "Options: -O3   -funroll-loops -g3 -Wdate-time -D_FORTIFY_SOURCE=2 -DPOPCNT_CAPABILITY\n",
            "Sizeof {int, long, long long, void*, size_t, off_t}: {4, 8, 8, 8, 8, 8}\n"
          ]
        }
      ],
      "source": [
        "!hisat2 --version"
      ]
    },
    {
      "cell_type": "markdown",
      "metadata": {
        "id": "0fTXUIiw2WGQ"
      },
      "source": [
        "## Установка sra-toolkit (для скачивания .fastq файлов из NCBI)"
      ]
    },
    {
      "cell_type": "code",
      "execution_count": null,
      "metadata": {
        "colab": {
          "base_uri": "https://localhost:8080/"
        },
        "id": "5m-7wf_x2Yue",
        "outputId": "c9c6e912-90b3-4661-c11e-b1ad93626e28"
      },
      "outputs": [
        {
          "output_type": "stream",
          "name": "stdout",
          "text": [
            "Reading package lists... Done\n",
            "Building dependency tree       \n",
            "Reading state information... Done\n",
            "sra-toolkit is already the newest version (2.8.2-5+dfsg-1).\n",
            "0 upgraded, 0 newly installed, 0 to remove and 58 not upgraded.\n"
          ]
        }
      ],
      "source": [
        "!apt-get install sra-toolkit"
      ]
    },
    {
      "cell_type": "markdown",
      "metadata": {
        "id": "XiVlP4mfy74q"
      },
      "source": [
        "## Установка FastQC"
      ]
    },
    {
      "cell_type": "code",
      "execution_count": null,
      "metadata": {
        "id": "62l1Q2ymbENA",
        "colab": {
          "base_uri": "https://localhost:8080/"
        },
        "outputId": "4e5412ee-a7cc-47ed-d225-76bd885b307d"
      },
      "outputs": [
        {
          "output_type": "stream",
          "name": "stdout",
          "text": [
            "openjdk version \"11.0.11\" 2021-04-20\n",
            "OpenJDK Runtime Environment (build 11.0.11+9-Ubuntu-0ubuntu2.18.04)\n",
            "OpenJDK 64-Bit Server VM (build 11.0.11+9-Ubuntu-0ubuntu2.18.04, mixed mode, sharing)\n"
          ]
        }
      ],
      "source": [
        "!java -version"
      ]
    },
    {
      "cell_type": "code",
      "execution_count": null,
      "metadata": {
        "id": "8bpgwFgcbgRd",
        "colab": {
          "base_uri": "https://localhost:8080/"
        },
        "outputId": "e8fa9e96-194f-47aa-90b7-502dffd7bab4"
      },
      "outputs": [
        {
          "output_type": "stream",
          "name": "stdout",
          "text": [
            "--2021-12-09 13:56:29--  https://www.bioinformatics.babraham.ac.uk/projects/fastqc/fastqc_v0.11.9.zip\n",
            "Resolving www.bioinformatics.babraham.ac.uk (www.bioinformatics.babraham.ac.uk)... 149.155.133.4\n",
            "Connecting to www.bioinformatics.babraham.ac.uk (www.bioinformatics.babraham.ac.uk)|149.155.133.4|:443... connected.\n",
            "HTTP request sent, awaiting response... 200 OK\n",
            "Length: 10249221 (9.8M) [application/zip]\n",
            "Saving to: ‘fastqc_v0.11.9.zip’\n",
            "\n",
            "fastqc_v0.11.9.zip  100%[===================>]   9.77M   387KB/s    in 26s     \n",
            "\n",
            "2021-12-09 13:56:55 (387 KB/s) - ‘fastqc_v0.11.9.zip’ saved [10249221/10249221]\n",
            "\n"
          ]
        }
      ],
      "source": [
        "!wget https://www.bioinformatics.babraham.ac.uk/projects/fastqc/fastqc_v0.11.9.zip"
      ]
    },
    {
      "cell_type": "code",
      "execution_count": null,
      "metadata": {
        "id": "yTcTjOTJblcm",
        "colab": {
          "base_uri": "https://localhost:8080/"
        },
        "outputId": "f02d193d-de59-42e8-8801-1cffb7bd71fd"
      },
      "outputs": [
        {
          "output_type": "stream",
          "name": "stdout",
          "text": [
            "Archive:  fastqc_v0.11.9.zip\n",
            "  inflating: FastQC/cisd-jhdf5.jar   \n",
            "   creating: FastQC/Configuration/\n",
            "  inflating: FastQC/Configuration/adapter_list.txt  \n",
            "  inflating: FastQC/Configuration/contaminant_list.txt  \n",
            "  inflating: FastQC/Configuration/limits.txt  \n",
            "  inflating: FastQC/fastqc           \n",
            "  inflating: FastQC/fastqc_icon.ico  \n",
            "   creating: FastQC/Help/\n",
            "   creating: FastQC/Help/1 Introduction/\n",
            "   creating: FastQC/Help/1 Introduction/.svn/\n",
            "  inflating: FastQC/Help/1 Introduction/.svn/entries  \n",
            "   creating: FastQC/Help/1 Introduction/.svn/props/\n",
            "   creating: FastQC/Help/1 Introduction/.svn/text-base/\n",
            "  inflating: FastQC/Help/1 Introduction/.svn/text-base/1.1 What is FastQC.html.svn-base  \n",
            "   creating: FastQC/Help/1 Introduction/.svn/tmp/\n",
            "   creating: FastQC/Help/1 Introduction/.svn/tmp/props/\n",
            "  inflating: FastQC/Help/1 Introduction/1.1 What is FastQC.html  \n",
            "   creating: FastQC/Help/2 Basic Operations/\n",
            "   creating: FastQC/Help/2 Basic Operations/.svn/\n",
            "  inflating: FastQC/Help/2 Basic Operations/.svn/entries  \n",
            "   creating: FastQC/Help/2 Basic Operations/.svn/props/\n",
            "   creating: FastQC/Help/2 Basic Operations/.svn/text-base/\n",
            "  inflating: FastQC/Help/2 Basic Operations/.svn/text-base/2.1 Opening a sequence file.html.svn-base  \n",
            "  inflating: FastQC/Help/2 Basic Operations/.svn/text-base/2.2 Evaluating Results.html.svn-base  \n",
            "  inflating: FastQC/Help/2 Basic Operations/.svn/text-base/2.3 Saving a Report.html.svn-base  \n",
            "   creating: FastQC/Help/2 Basic Operations/.svn/tmp/\n",
            "   creating: FastQC/Help/2 Basic Operations/.svn/tmp/props/\n",
            "  inflating: FastQC/Help/2 Basic Operations/2.1 Opening a sequence file.html  \n",
            "  inflating: FastQC/Help/2 Basic Operations/2.2 Evaluating Results.html  \n",
            "  inflating: FastQC/Help/2 Basic Operations/2.3 Saving a Report.html  \n",
            "   creating: FastQC/Help/3 Analysis Modules/\n",
            "   creating: FastQC/Help/3 Analysis Modules/.svn/\n",
            "  inflating: FastQC/Help/3 Analysis Modules/.svn/entries  \n",
            "   creating: FastQC/Help/3 Analysis Modules/.svn/prop-base/\n",
            " extracting: FastQC/Help/3 Analysis Modules/.svn/prop-base/duplication_levels.png.svn-base  \n",
            "  inflating: FastQC/Help/3 Analysis Modules/.svn/prop-base/kmer_profiles.png.svn-base  \n",
            " extracting: FastQC/Help/3 Analysis Modules/.svn/prop-base/per_base_gc_content.png.svn-base  \n",
            " extracting: FastQC/Help/3 Analysis Modules/.svn/prop-base/per_base_n_content.png.svn-base  \n",
            " extracting: FastQC/Help/3 Analysis Modules/.svn/prop-base/per_base_quality.png.svn-base  \n",
            " extracting: FastQC/Help/3 Analysis Modules/.svn/prop-base/per_base_sequence_content.png.svn-base  \n",
            " extracting: FastQC/Help/3 Analysis Modules/.svn/prop-base/per_sequence_gc_content.png.svn-base  \n",
            " extracting: FastQC/Help/3 Analysis Modules/.svn/prop-base/per_sequence_quality.png.svn-base  \n",
            " extracting: FastQC/Help/3 Analysis Modules/.svn/prop-base/per_tile_quality.png.svn-base  \n",
            " extracting: FastQC/Help/3 Analysis Modules/.svn/prop-base/sequence_length_distribution.png.svn-base  \n",
            "   creating: FastQC/Help/3 Analysis Modules/.svn/props/\n",
            "   creating: FastQC/Help/3 Analysis Modules/.svn/text-base/\n",
            "  inflating: FastQC/Help/3 Analysis Modules/.svn/text-base/1 Basic Statistics.html.svn-base  \n",
            "  inflating: FastQC/Help/3 Analysis Modules/.svn/text-base/10 Adapter Content.html.svn-base  \n",
            "  inflating: FastQC/Help/3 Analysis Modules/.svn/text-base/11 Kmer Content.html.svn-base  \n",
            "  inflating: FastQC/Help/3 Analysis Modules/.svn/text-base/12 Per Tile Sequence Quality.html.svn-base  \n",
            "  inflating: FastQC/Help/3 Analysis Modules/.svn/text-base/2 Per Base Sequence Quality.html.svn-base  \n",
            "  inflating: FastQC/Help/3 Analysis Modules/.svn/text-base/3 Per Sequence Quality Scores.html.svn-base  \n",
            "  inflating: FastQC/Help/3 Analysis Modules/.svn/text-base/4 Per Base Sequence Content.html.svn-base  \n",
            "  inflating: FastQC/Help/3 Analysis Modules/.svn/text-base/5 Per Sequence GC Content.html.svn-base  \n",
            "  inflating: FastQC/Help/3 Analysis Modules/.svn/text-base/6 Per Base N Content.html.svn-base  \n",
            "  inflating: FastQC/Help/3 Analysis Modules/.svn/text-base/7 Sequence Length Distribution.html.svn-base  \n",
            "  inflating: FastQC/Help/3 Analysis Modules/.svn/text-base/8 Duplicate Sequences.html.svn-base  \n",
            "  inflating: FastQC/Help/3 Analysis Modules/.svn/text-base/9 Overrepresented Sequences.html.svn-base  \n",
            "  inflating: FastQC/Help/3 Analysis Modules/.svn/text-base/duplication_levels.png.svn-base  \n",
            "  inflating: FastQC/Help/3 Analysis Modules/.svn/text-base/kmer_profiles.png.svn-base  \n",
            "  inflating: FastQC/Help/3 Analysis Modules/.svn/text-base/per_base_gc_content.png.svn-base  \n",
            "  inflating: FastQC/Help/3 Analysis Modules/.svn/text-base/per_base_n_content.png.svn-base  \n",
            "  inflating: FastQC/Help/3 Analysis Modules/.svn/text-base/per_base_quality.png.svn-base  \n",
            "  inflating: FastQC/Help/3 Analysis Modules/.svn/text-base/per_base_sequence_content.png.svn-base  \n",
            "  inflating: FastQC/Help/3 Analysis Modules/.svn/text-base/per_sequence_gc_content.png.svn-base  \n",
            "  inflating: FastQC/Help/3 Analysis Modules/.svn/text-base/per_sequence_quality.png.svn-base  \n",
            "  inflating: FastQC/Help/3 Analysis Modules/.svn/text-base/per_tile_quality.png.svn-base  \n",
            "  inflating: FastQC/Help/3 Analysis Modules/.svn/text-base/sequence_length_distribution.png.svn-base  \n",
            "   creating: FastQC/Help/3 Analysis Modules/.svn/tmp/\n",
            "   creating: FastQC/Help/3 Analysis Modules/.svn/tmp/props/\n",
            "  inflating: FastQC/Help/3 Analysis Modules/1 Basic Statistics.html  \n",
            "  inflating: FastQC/Help/3 Analysis Modules/10 Adapter Content.html  \n",
            "  inflating: FastQC/Help/3 Analysis Modules/11 Kmer Content.html  \n",
            "  inflating: FastQC/Help/3 Analysis Modules/12 Per Tile Sequence Quality.html  \n",
            "  inflating: FastQC/Help/3 Analysis Modules/2 Per Base Sequence Quality.html  \n",
            "  inflating: FastQC/Help/3 Analysis Modules/3 Per Sequence Quality Scores.html  \n",
            "  inflating: FastQC/Help/3 Analysis Modules/4 Per Base Sequence Content.html  \n",
            "  inflating: FastQC/Help/3 Analysis Modules/5 Per Sequence GC Content.html  \n",
            "  inflating: FastQC/Help/3 Analysis Modules/6 Per Base N Content.html  \n",
            "  inflating: FastQC/Help/3 Analysis Modules/7 Sequence Length Distribution.html  \n",
            "  inflating: FastQC/Help/3 Analysis Modules/8 Duplicate Sequences.html  \n",
            "  inflating: FastQC/Help/3 Analysis Modules/9 Overrepresented Sequences.html  \n",
            "  inflating: FastQC/Help/3 Analysis Modules/duplication_levels.png  \n",
            "  inflating: FastQC/Help/3 Analysis Modules/kmer_profiles.png  \n",
            "  inflating: FastQC/Help/3 Analysis Modules/per_base_gc_content.png  \n",
            "  inflating: FastQC/Help/3 Analysis Modules/per_base_n_content.png  \n",
            "  inflating: FastQC/Help/3 Analysis Modules/per_base_quality.png  \n",
            "  inflating: FastQC/Help/3 Analysis Modules/per_base_sequence_content.png  \n",
            "  inflating: FastQC/Help/3 Analysis Modules/per_sequence_gc_content.png  \n",
            "  inflating: FastQC/Help/3 Analysis Modules/per_sequence_quality.png  \n",
            "  inflating: FastQC/Help/3 Analysis Modules/per_tile_quality.png  \n",
            "  inflating: FastQC/Help/3 Analysis Modules/sequence_length_distribution.png  \n",
            "  inflating: FastQC/INSTALL.txt      \n",
            "  inflating: FastQC/jbzip2-0.9.jar   \n",
            "  inflating: FastQC/LICENSE          \n",
            "  inflating: FastQC/LICENSE.txt      \n",
            "  inflating: FastQC/LICENSE_JHDF5.txt  \n",
            "   creating: FastQC/net/\n",
            "   creating: FastQC/net/sourceforge/\n",
            "   creating: FastQC/net/sourceforge/iharder/\n",
            "   creating: FastQC/net/sourceforge/iharder/base64/\n",
            "  inflating: FastQC/net/sourceforge/iharder/base64/Base64$1.class  \n",
            "  inflating: FastQC/net/sourceforge/iharder/base64/Base64$InputStream.class  \n",
            "  inflating: FastQC/net/sourceforge/iharder/base64/Base64$OutputStream.class  \n",
            "  inflating: FastQC/net/sourceforge/iharder/base64/Base64.class  \n",
            "   creating: FastQC/org/\n",
            "   creating: FastQC/org/apache/\n",
            "   creating: FastQC/org/apache/commons/\n",
            "   creating: FastQC/org/apache/commons/math3/\n",
            "   creating: FastQC/org/apache/commons/math3/analysis/\n",
            "   creating: FastQC/org/apache/commons/math3/analysis/solvers/\n",
            "  inflating: FastQC/org/apache/commons/math3/analysis/solvers/AbstractUnivariateSolver.class  \n",
            "  inflating: FastQC/org/apache/commons/math3/analysis/solvers/AllowedSolution.class  \n",
            "  inflating: FastQC/org/apache/commons/math3/analysis/solvers/BaseAbstractUnivariateSolver.class  \n",
            "  inflating: FastQC/org/apache/commons/math3/analysis/solvers/BaseUnivariateSolver.class  \n",
            "  inflating: FastQC/org/apache/commons/math3/analysis/solvers/BracketedUnivariateSolver.class  \n",
            "  inflating: FastQC/org/apache/commons/math3/analysis/solvers/BrentSolver.class  \n",
            "  inflating: FastQC/org/apache/commons/math3/analysis/solvers/UnivariateSolver.class  \n",
            "  inflating: FastQC/org/apache/commons/math3/analysis/solvers/UnivariateSolverUtils.class  \n",
            "  inflating: FastQC/org/apache/commons/math3/analysis/UnivariateFunction.class  \n",
            "   creating: FastQC/org/apache/commons/math3/distribution/\n",
            "  inflating: FastQC/org/apache/commons/math3/distribution/AbstractIntegerDistribution.class  \n",
            "  inflating: FastQC/org/apache/commons/math3/distribution/AbstractRealDistribution$1.class  \n",
            "  inflating: FastQC/org/apache/commons/math3/distribution/AbstractRealDistribution.class  \n",
            "  inflating: FastQC/org/apache/commons/math3/distribution/BetaDistribution.class  \n",
            "  inflating: FastQC/org/apache/commons/math3/distribution/BinomialDistribution.class  \n",
            "  inflating: FastQC/org/apache/commons/math3/distribution/CauchyDistribution.class  \n",
            "  inflating: FastQC/org/apache/commons/math3/distribution/ChiSquaredDistribution.class  \n",
            "  inflating: FastQC/org/apache/commons/math3/distribution/FDistribution.class  \n",
            "  inflating: FastQC/org/apache/commons/math3/distribution/GammaDistribution.class  \n",
            "  inflating: FastQC/org/apache/commons/math3/distribution/HypergeometricDistribution.class  \n",
            "  inflating: FastQC/org/apache/commons/math3/distribution/IntegerDistribution.class  \n",
            "  inflating: FastQC/org/apache/commons/math3/distribution/NormalDistribution.class  \n",
            "  inflating: FastQC/org/apache/commons/math3/distribution/PascalDistribution.class  \n",
            "  inflating: FastQC/org/apache/commons/math3/distribution/PoissonDistribution.class  \n",
            "  inflating: FastQC/org/apache/commons/math3/distribution/RealDistribution.class  \n",
            "  inflating: FastQC/org/apache/commons/math3/distribution/SaddlePointExpansion.class  \n",
            "  inflating: FastQC/org/apache/commons/math3/distribution/TDistribution.class  \n",
            "  inflating: FastQC/org/apache/commons/math3/distribution/WeibullDistribution.class  \n",
            "  inflating: FastQC/org/apache/commons/math3/distribution/ZipfDistribution.class  \n",
            "   creating: FastQC/org/apache/commons/math3/exception/\n",
            "  inflating: FastQC/org/apache/commons/math3/exception/ConvergenceException.class  \n",
            "  inflating: FastQC/org/apache/commons/math3/exception/DimensionMismatchException.class  \n",
            "  inflating: FastQC/org/apache/commons/math3/exception/MathArithmeticException.class  \n",
            "  inflating: FastQC/org/apache/commons/math3/exception/MathIllegalArgumentException.class  \n",
            "  inflating: FastQC/org/apache/commons/math3/exception/MathIllegalNumberException.class  \n",
            "  inflating: FastQC/org/apache/commons/math3/exception/MathIllegalStateException.class  \n",
            "  inflating: FastQC/org/apache/commons/math3/exception/MathInternalError.class  \n",
            "  inflating: FastQC/org/apache/commons/math3/exception/MaxCountExceededException.class  \n",
            "  inflating: FastQC/org/apache/commons/math3/exception/NoBracketingException.class  \n",
            "  inflating: FastQC/org/apache/commons/math3/exception/NotFiniteNumberException.class  \n",
            "  inflating: FastQC/org/apache/commons/math3/exception/NotPositiveException.class  \n",
            "  inflating: FastQC/org/apache/commons/math3/exception/NotStrictlyPositiveException.class  \n",
            "  inflating: FastQC/org/apache/commons/math3/exception/NullArgumentException.class  \n",
            "  inflating: FastQC/org/apache/commons/math3/exception/NumberIsTooLargeException.class  \n",
            "  inflating: FastQC/org/apache/commons/math3/exception/NumberIsTooSmallException.class  \n",
            "  inflating: FastQC/org/apache/commons/math3/exception/OutOfRangeException.class  \n",
            "  inflating: FastQC/org/apache/commons/math3/exception/TooManyEvaluationsException.class  \n",
            "   creating: FastQC/org/apache/commons/math3/exception/util/\n",
            "  inflating: FastQC/org/apache/commons/math3/exception/util/ArgUtils.class  \n",
            "  inflating: FastQC/org/apache/commons/math3/exception/util/ExceptionContext.class  \n",
            "  inflating: FastQC/org/apache/commons/math3/exception/util/ExceptionContextProvider.class  \n",
            "  inflating: FastQC/org/apache/commons/math3/exception/util/Localizable.class  \n",
            "  inflating: FastQC/org/apache/commons/math3/exception/util/LocalizedFormats.class  \n",
            "   creating: FastQC/org/apache/commons/math3/random/\n",
            "  inflating: FastQC/org/apache/commons/math3/random/AbstractWell.class  \n",
            "  inflating: FastQC/org/apache/commons/math3/random/BitsStreamGenerator.class  \n",
            "  inflating: FastQC/org/apache/commons/math3/random/RandomData.class  \n",
            "  inflating: FastQC/org/apache/commons/math3/random/RandomDataImpl.class  \n",
            "  inflating: FastQC/org/apache/commons/math3/random/RandomGenerator.class  \n",
            "  inflating: FastQC/org/apache/commons/math3/random/Well19937c.class  \n",
            "   creating: FastQC/org/apache/commons/math3/special/\n",
            "  inflating: FastQC/org/apache/commons/math3/special/Beta$1.class  \n",
            "  inflating: FastQC/org/apache/commons/math3/special/Beta.class  \n",
            "  inflating: FastQC/org/apache/commons/math3/special/Erf.class  \n",
            "  inflating: FastQC/org/apache/commons/math3/special/Gamma$1.class  \n",
            "  inflating: FastQC/org/apache/commons/math3/special/Gamma.class  \n",
            "   creating: FastQC/org/apache/commons/math3/util/\n",
            "  inflating: FastQC/org/apache/commons/math3/util/ArithmeticUtils.class  \n",
            "  inflating: FastQC/org/apache/commons/math3/util/ContinuedFraction.class  \n",
            "  inflating: FastQC/org/apache/commons/math3/util/DoubleArray.class  \n",
            "  inflating: FastQC/org/apache/commons/math3/util/FastMath$ExpFracTable.class  \n",
            "  inflating: FastQC/org/apache/commons/math3/util/FastMath$ExpIntTable.class  \n",
            "  inflating: FastQC/org/apache/commons/math3/util/FastMath$lnMant.class  \n",
            "  inflating: FastQC/org/apache/commons/math3/util/FastMath.class  \n",
            "  inflating: FastQC/org/apache/commons/math3/util/FastMathCalc.class  \n",
            "  inflating: FastQC/org/apache/commons/math3/util/FastMathLiteralArrays.class  \n",
            "  inflating: FastQC/org/apache/commons/math3/util/Incrementor$1.class  \n",
            "  inflating: FastQC/org/apache/commons/math3/util/Incrementor$MaxCountExceededCallback.class  \n",
            "  inflating: FastQC/org/apache/commons/math3/util/Incrementor.class  \n",
            "  inflating: FastQC/org/apache/commons/math3/util/MathUtils.class  \n",
            "  inflating: FastQC/org/apache/commons/math3/util/Precision.class  \n",
            "  inflating: FastQC/org/apache/commons/math3/util/ResizableDoubleArray.class  \n",
            "  inflating: FastQC/README.md        \n",
            "  inflating: FastQC/README.txt       \n",
            "  inflating: FastQC/RELEASE_NOTES.txt  \n",
            "  inflating: FastQC/run_fastqc.bat   \n",
            "  inflating: FastQC/sam-1.103.jar    \n",
            "   creating: FastQC/Templates/\n",
            "  inflating: FastQC/Templates/fastqc2fo.xsl  \n",
            "  inflating: FastQC/Templates/header_template.html  \n",
            "   creating: FastQC/Templates/Icons/\n",
            " extracting: FastQC/Templates/Icons/error.png  \n",
            " extracting: FastQC/Templates/Icons/fastqc_icon.png  \n",
            " extracting: FastQC/Templates/Icons/tick.png  \n",
            " extracting: FastQC/Templates/Icons/warning.png  \n",
            "   creating: FastQC/uk/\n",
            "   creating: FastQC/uk/ac/\n",
            "   creating: FastQC/uk/ac/babraham/\n",
            "   creating: FastQC/uk/ac/babraham/FastQC/\n",
            "   creating: FastQC/uk/ac/babraham/FastQC/Analysis/\n",
            "  inflating: FastQC/uk/ac/babraham/FastQC/Analysis/AnalysisListener.class  \n",
            "  inflating: FastQC/uk/ac/babraham/FastQC/Analysis/AnalysisQueue.class  \n",
            "  inflating: FastQC/uk/ac/babraham/FastQC/Analysis/AnalysisRunner.class  \n",
            "  inflating: FastQC/uk/ac/babraham/FastQC/Analysis/OfflineRunner.class  \n",
            "   creating: FastQC/uk/ac/babraham/FastQC/Dialogs/\n",
            "  inflating: FastQC/uk/ac/babraham/FastQC/Dialogs/AboutDialog$1.class  \n",
            "  inflating: FastQC/uk/ac/babraham/FastQC/Dialogs/AboutDialog.class  \n",
            "  inflating: FastQC/uk/ac/babraham/FastQC/Dialogs/FastQCTitlePanel$SmoothJLabel.class  \n",
            "  inflating: FastQC/uk/ac/babraham/FastQC/Dialogs/FastQCTitlePanel.class  \n",
            "  inflating: FastQC/uk/ac/babraham/FastQC/Dialogs/WelcomePanel.class  \n",
            "  inflating: FastQC/uk/ac/babraham/FastQC/FastQCApplication$1.class  \n",
            "  inflating: FastQC/uk/ac/babraham/FastQC/FastQCApplication.class  \n",
            "  inflating: FastQC/uk/ac/babraham/FastQC/FastQCConfig.class  \n",
            "  inflating: FastQC/uk/ac/babraham/FastQC/FastQCMenuBar.class  \n",
            "   creating: FastQC/uk/ac/babraham/FastQC/FileFilters/\n",
            "  inflating: FastQC/uk/ac/babraham/FastQC/FileFilters/BAMFileFilter.class  \n",
            "  inflating: FastQC/uk/ac/babraham/FastQC/FileFilters/CasavaFastQFileFilter.class  \n",
            "  inflating: FastQC/uk/ac/babraham/FastQC/FileFilters/FastQFileFilter.class  \n",
            "  inflating: FastQC/uk/ac/babraham/FastQC/FileFilters/GobyFileFilter.class  \n",
            "  inflating: FastQC/uk/ac/babraham/FastQC/FileFilters/MappedBAMFileFilter.class  \n",
            "  inflating: FastQC/uk/ac/babraham/FastQC/FileFilters/SequenceFileFilter.class  \n",
            "   creating: FastQC/uk/ac/babraham/FastQC/Graphs/\n",
            "  inflating: FastQC/uk/ac/babraham/FastQC/Graphs/BaseGroup.class  \n",
            "  inflating: FastQC/uk/ac/babraham/FastQC/Graphs/LineGraph.class  \n",
            "  inflating: FastQC/uk/ac/babraham/FastQC/Graphs/QualityBoxPlot.class  \n",
            "  inflating: FastQC/uk/ac/babraham/FastQC/Graphs/TileGraph.class  \n",
            "   creating: FastQC/uk/ac/babraham/FastQC/Help/\n",
            "  inflating: FastQC/uk/ac/babraham/FastQC/Help/HelpDialog.class  \n",
            "  inflating: FastQC/uk/ac/babraham/FastQC/Help/HelpIndexRoot$FileSorter.class  \n",
            "  inflating: FastQC/uk/ac/babraham/FastQC/Help/HelpIndexRoot.class  \n",
            "  inflating: FastQC/uk/ac/babraham/FastQC/Help/HelpPage.class  \n",
            "  inflating: FastQC/uk/ac/babraham/FastQC/Help/HelpPageDisplay$HelpEditor.class  \n",
            "  inflating: FastQC/uk/ac/babraham/FastQC/Help/HelpPageDisplay.class  \n",
            "  inflating: FastQC/uk/ac/babraham/FastQC/Help/HelpSearchPanel.class  \n",
            "   creating: FastQC/uk/ac/babraham/FastQC/Modules/\n",
            "  inflating: FastQC/uk/ac/babraham/FastQC/Modules/AbstractQCModule.class  \n",
            "  inflating: FastQC/uk/ac/babraham/FastQC/Modules/AdapterContent$Adapter.class  \n",
            "  inflating: FastQC/uk/ac/babraham/FastQC/Modules/AdapterContent$ResultsTable.class  \n",
            "  inflating: FastQC/uk/ac/babraham/FastQC/Modules/AdapterContent.class  \n",
            "  inflating: FastQC/uk/ac/babraham/FastQC/Modules/BasicStats$ResultsTable.class  \n",
            "  inflating: FastQC/uk/ac/babraham/FastQC/Modules/BasicStats.class  \n",
            "  inflating: FastQC/uk/ac/babraham/FastQC/Modules/DuplicationLevel.class  \n",
            "   creating: FastQC/uk/ac/babraham/FastQC/Modules/GCModel/\n",
            "  inflating: FastQC/uk/ac/babraham/FastQC/Modules/GCModel/GCModel.class  \n",
            "  inflating: FastQC/uk/ac/babraham/FastQC/Modules/GCModel/GCModelValue.class  \n",
            "  inflating: FastQC/uk/ac/babraham/FastQC/Modules/KmerContent$Kmer.class  \n",
            "  inflating: FastQC/uk/ac/babraham/FastQC/Modules/KmerContent$ResultsTable.class  \n",
            "  inflating: FastQC/uk/ac/babraham/FastQC/Modules/KmerContent.class  \n",
            "  inflating: FastQC/uk/ac/babraham/FastQC/Modules/ModuleConfig.class  \n",
            "  inflating: FastQC/uk/ac/babraham/FastQC/Modules/ModuleFactory.class  \n",
            "  inflating: FastQC/uk/ac/babraham/FastQC/Modules/NContent.class  \n",
            "  inflating: FastQC/uk/ac/babraham/FastQC/Modules/OverRepresentedSeqs$OverrepresentedSeq.class  \n",
            "  inflating: FastQC/uk/ac/babraham/FastQC/Modules/OverRepresentedSeqs$ResultsTable.class  \n",
            "  inflating: FastQC/uk/ac/babraham/FastQC/Modules/OverRepresentedSeqs.class  \n",
            "  inflating: FastQC/uk/ac/babraham/FastQC/Modules/PerBaseQualityScores.class  \n",
            "  inflating: FastQC/uk/ac/babraham/FastQC/Modules/PerBaseSequenceContent.class  \n",
            "  inflating: FastQC/uk/ac/babraham/FastQC/Modules/PerSequenceGCContent.class  \n",
            "  inflating: FastQC/uk/ac/babraham/FastQC/Modules/PerSequenceQualityScores.class  \n",
            "  inflating: FastQC/uk/ac/babraham/FastQC/Modules/PerTileQualityScores.class  \n",
            "  inflating: FastQC/uk/ac/babraham/FastQC/Modules/QCModule.class  \n",
            "  inflating: FastQC/uk/ac/babraham/FastQC/Modules/SequenceLengthDistribution.class  \n",
            "   creating: FastQC/uk/ac/babraham/FastQC/Report/\n",
            "  inflating: FastQC/uk/ac/babraham/FastQC/Report/HTMLReportArchive.class  \n",
            "  inflating: FastQC/uk/ac/babraham/FastQC/Report/stylesheet.txt  \n",
            "   creating: FastQC/uk/ac/babraham/FastQC/Resources/\n",
            " extracting: FastQC/uk/ac/babraham/FastQC/Resources/error.png  \n",
            " extracting: FastQC/uk/ac/babraham/FastQC/Resources/fastqc_icon.png  \n",
            "  inflating: FastQC/uk/ac/babraham/FastQC/Resources/fastqc_icon.svg  \n",
            " extracting: FastQC/uk/ac/babraham/FastQC/Resources/fastqc_icon_100.png  \n",
            " extracting: FastQC/uk/ac/babraham/FastQC/Resources/tick.png  \n",
            " extracting: FastQC/uk/ac/babraham/FastQC/Resources/warning.png  \n",
            "   creating: FastQC/uk/ac/babraham/FastQC/Results/\n",
            "  inflating: FastQC/uk/ac/babraham/FastQC/Results/ResultsPanel$ModuleRenderer.class  \n",
            "  inflating: FastQC/uk/ac/babraham/FastQC/Results/ResultsPanel.class  \n",
            "   creating: FastQC/uk/ac/babraham/FastQC/Sequence/\n",
            "  inflating: FastQC/uk/ac/babraham/FastQC/Sequence/BAMFile.class  \n",
            "   creating: FastQC/uk/ac/babraham/FastQC/Sequence/Contaminant/\n",
            "  inflating: FastQC/uk/ac/babraham/FastQC/Sequence/Contaminant/Contaminant.class  \n",
            "  inflating: FastQC/uk/ac/babraham/FastQC/Sequence/Contaminant/ContaminantHit.class  \n",
            "  inflating: FastQC/uk/ac/babraham/FastQC/Sequence/Contaminant/ContaminentFinder.class  \n",
            "  inflating: FastQC/uk/ac/babraham/FastQC/Sequence/Fast5File.class  \n",
            "  inflating: FastQC/uk/ac/babraham/FastQC/Sequence/FastQFile.class  \n",
            "   creating: FastQC/uk/ac/babraham/FastQC/Sequence/QualityEncoding/\n",
            "  inflating: FastQC/uk/ac/babraham/FastQC/Sequence/QualityEncoding/PhredEncoding.class  \n",
            "  inflating: FastQC/uk/ac/babraham/FastQC/Sequence/Sequence.class  \n",
            "  inflating: FastQC/uk/ac/babraham/FastQC/Sequence/SequenceFactory.class  \n",
            "  inflating: FastQC/uk/ac/babraham/FastQC/Sequence/SequenceFile.class  \n",
            "  inflating: FastQC/uk/ac/babraham/FastQC/Sequence/SequenceFileGroup.class  \n",
            "  inflating: FastQC/uk/ac/babraham/FastQC/Sequence/SequenceFormatException.class  \n",
            "   creating: FastQC/uk/ac/babraham/FastQC/Statistics/\n",
            "  inflating: FastQC/uk/ac/babraham/FastQC/Statistics/NormalDistribution.class  \n",
            "  inflating: FastQC/uk/ac/babraham/FastQC/Statistics/PearsonCorrelation.class  \n",
            "   creating: FastQC/uk/ac/babraham/FastQC/Utilities/\n",
            "  inflating: FastQC/uk/ac/babraham/FastQC/Utilities/CasavaBasename.class  \n",
            "  inflating: FastQC/uk/ac/babraham/FastQC/Utilities/HotColdColourGradient.class  \n",
            "  inflating: FastQC/uk/ac/babraham/FastQC/Utilities/ImageToBase64.class  \n",
            "  inflating: FastQC/uk/ac/babraham/FastQC/Utilities/MultiMemberGZIPInputStream.class  \n",
            "  inflating: FastQC/uk/ac/babraham/FastQC/Utilities/NameFormatException.class  \n",
            "  inflating: FastQC/uk/ac/babraham/FastQC/Utilities/NanoporeBasename.class  \n",
            "  inflating: FastQC/uk/ac/babraham/FastQC/Utilities/QualityCount.class  \n",
            "  inflating: FastQC/uk/ac/babraham/FastQC/Utilities/RGB.class  \n"
          ]
        }
      ],
      "source": [
        "!unzip fastqc_v0.11.9.zip"
      ]
    },
    {
      "cell_type": "code",
      "execution_count": null,
      "metadata": {
        "id": "S79LH0aXbvLx"
      },
      "outputs": [],
      "source": [
        "!chmod a+x FastQC/fastqc"
      ]
    },
    {
      "cell_type": "markdown",
      "metadata": {
        "id": "3dqWpZZ_0_V-"
      },
      "source": [
        "## Установка HTSeq-count"
      ]
    },
    {
      "cell_type": "code",
      "execution_count": null,
      "metadata": {
        "id": "1_yqggdMhMfj",
        "colab": {
          "base_uri": "https://localhost:8080/"
        },
        "outputId": "d7420266-e055-4d0d-fb69-02012d0605e8"
      },
      "outputs": [
        {
          "output_type": "stream",
          "name": "stdout",
          "text": [
            "Requirement already satisfied: HTSeq in /usr/local/lib/python3.7/dist-packages (1.99.2)\n",
            "Requirement already satisfied: pysam in /usr/local/lib/python3.7/dist-packages (from HTSeq) (0.18.0)\n",
            "Requirement already satisfied: numpy in /usr/local/lib/python3.7/dist-packages (from HTSeq) (1.21.4)\n"
          ]
        }
      ],
      "source": [
        "!pip install HTSeq"
      ]
    },
    {
      "cell_type": "code",
      "source": [
        "!pip install --upgrade numpy"
      ],
      "metadata": {
        "colab": {
          "base_uri": "https://localhost:8080/"
        },
        "id": "QFcs6mjH6kHY",
        "outputId": "bb1dd2e8-33f9-496b-b173-5ec7bb0a71f2"
      },
      "execution_count": null,
      "outputs": [
        {
          "output_type": "stream",
          "name": "stdout",
          "text": [
            "Requirement already satisfied: numpy in /usr/local/lib/python3.7/dist-packages (1.21.4)\n"
          ]
        }
      ]
    },
    {
      "cell_type": "code",
      "execution_count": null,
      "metadata": {
        "id": "L7W0Ep2nhT_d",
        "colab": {
          "base_uri": "https://localhost:8080/"
        },
        "outputId": "9413cdf9-5620-43d4-affb-7bd0ae07dae9"
      },
      "outputs": [
        {
          "output_type": "stream",
          "name": "stdout",
          "text": [
            "1.99.2\n"
          ]
        }
      ],
      "source": [
        "!htseq-count --version"
      ]
    },
    {
      "cell_type": "markdown",
      "metadata": {
        "id": "I6MhDf5N2tQ3"
      },
      "source": [
        "## Скачиваем RNA-seq данные"
      ]
    },
    {
      "cell_type": "code",
      "execution_count": null,
      "metadata": {
        "colab": {
          "base_uri": "https://localhost:8080/"
        },
        "id": "Iw6FvBdn3cVK",
        "outputId": "e8c071d8-1b4e-43ac-91ff-ca56bc934dc6"
      },
      "outputs": [
        {
          "output_type": "stream",
          "name": "stdout",
          "text": [
            "--2021-12-09 11:20:16--  http://83.149.211.146:23194/~ivan/data/hse_teaching/rna_seq_2021.tgz\n",
            "Connecting to 83.149.211.146:23194... connected.\n",
            "HTTP request sent, awaiting response... 200 OK\n",
            "Length: 6471183400 (6.0G) [application/x-gzip]\n",
            "Saving to: ‘rna_seq_2021.tgz’\n",
            "\n",
            "rna_seq_2021.tgz    100%[===================>]   6.03G  7.18MB/s    in 14m 15s \n",
            "\n",
            "2021-12-09 11:34:32 (7.22 MB/s) - ‘rna_seq_2021.tgz’ saved [6471183400/6471183400]\n",
            "\n",
            "\n",
            "real\t14m15.616s\n",
            "user\t0m7.966s\n",
            "sys\t1m30.839s\n"
          ]
        }
      ],
      "source": [
        "!time wget http://83.149.211.146:23194/~ivan/data/hse_teaching/rna_seq_2021.tgz"
      ]
    },
    {
      "cell_type": "markdown",
      "metadata": {
        "id": "HfHLUYCUQxyB"
      },
      "source": [
        "Распаковываем архив:"
      ]
    },
    {
      "cell_type": "code",
      "execution_count": null,
      "metadata": {
        "id": "Olp-zroXQ1sY",
        "colab": {
          "base_uri": "https://localhost:8080/"
        },
        "outputId": "4d3496e4-a2ab-46d3-a614-0438c65abfd9"
      },
      "outputs": [
        {
          "output_type": "stream",
          "name": "stdout",
          "text": [
            "rna_seq_2021/\n",
            "rna_seq_2021/_tmp.txt\n",
            "rna_seq_2021/SRR3414629_1.fastq\n",
            "rna_seq_2021/SRR3414636_1.fastq\n",
            "rna_seq_2021/SRR3414631_1.fastq\n",
            "rna_seq_2021/SRR3414635_1.fastq\n",
            "rna_seq_2021/SRR3414637_1.fastq\n",
            "rna_seq_2021/SRR3414630_1.fastq\n",
            "\n",
            "real\t9m5.418s\n",
            "user\t4m1.565s\n",
            "sys\t1m41.980s\n"
          ]
        }
      ],
      "source": [
        "!time tar -xzvf rna_seq_2021.tgz"
      ]
    },
    {
      "cell_type": "markdown",
      "metadata": {
        "id": "HAn1rivS0BME"
      },
      "source": [
        "## Скачиваем геном мыши mm10 (проиндексированный для HISAT2)"
      ]
    },
    {
      "cell_type": "code",
      "execution_count": null,
      "metadata": {
        "id": "wWfSQMGZ03Ch",
        "colab": {
          "base_uri": "https://localhost:8080/"
        },
        "outputId": "3a153fd8-dc1c-4344-a653-acc971b4ece3"
      },
      "outputs": [
        {
          "output_type": "stream",
          "name": "stdout",
          "text": [
            "--2021-12-09 11:45:40--  https://genome-idx.s3.amazonaws.com/hisat/mm10_genome.tar.gz\n",
            "Resolving genome-idx.s3.amazonaws.com (genome-idx.s3.amazonaws.com)... 52.216.145.91\n",
            "Connecting to genome-idx.s3.amazonaws.com (genome-idx.s3.amazonaws.com)|52.216.145.91|:443... connected.\n",
            "HTTP request sent, awaiting response... 200 OK\n",
            "Length: 3804366597 (3.5G) [binary/octet-stream]\n",
            "Saving to: ‘mm10_genome.tar.gz’\n",
            "\n",
            "mm10_genome.tar.gz  100%[===================>]   3.54G  26.7MB/s    in 2m 9s   \n",
            "\n",
            "2021-12-09 11:47:50 (28.1 MB/s) - ‘mm10_genome.tar.gz’ saved [3804366597/3804366597]\n",
            "\n"
          ]
        }
      ],
      "source": [
        "!wget https://genome-idx.s3.amazonaws.com/hisat/mm10_genome.tar.gz"
      ]
    },
    {
      "cell_type": "code",
      "execution_count": null,
      "metadata": {
        "id": "9IKaXKp7eLjq",
        "colab": {
          "base_uri": "https://localhost:8080/"
        },
        "outputId": "542046c4-2e82-443c-d010-3a3164f48e13"
      },
      "outputs": [
        {
          "output_type": "stream",
          "name": "stdout",
          "text": [
            "mm10/\n",
            "mm10/genome.8.ht2\n",
            "mm10/genome.5.ht2\n",
            "mm10/make_mm10.sh\n",
            "mm10/genome.7.ht2\n",
            "mm10/genome.6.ht2\n",
            "mm10/genome.4.ht2\n",
            "mm10/genome.3.ht2\n",
            "mm10/genome.1.ht2\n",
            "mm10/genome.2.ht2\n"
          ]
        }
      ],
      "source": [
        "!tar -xzvf mm10_genome.tar.gz"
      ]
    },
    {
      "cell_type": "markdown",
      "metadata": {
        "id": "sGULD5P70tvT"
      },
      "source": [
        "## Скачиваем аннотацию генов GENCODE для генома мыши mm10"
      ]
    },
    {
      "cell_type": "code",
      "execution_count": null,
      "metadata": {
        "id": "P8SxMZMC3Aw-",
        "colab": {
          "base_uri": "https://localhost:8080/"
        },
        "outputId": "1da35298-cf10-4ecb-8508-5c502d13f38e"
      },
      "outputs": [
        {
          "output_type": "stream",
          "name": "stdout",
          "text": [
            "--2021-12-09 13:53:25--  http://ftp.ebi.ac.uk/pub/databases/gencode/Gencode_mouse/release_M25/gencode.vM25.annotation.gtf.gz\n",
            "Resolving ftp.ebi.ac.uk (ftp.ebi.ac.uk)... 193.62.197.74\n",
            "Connecting to ftp.ebi.ac.uk (ftp.ebi.ac.uk)|193.62.197.74|:80... connected.\n",
            "HTTP request sent, awaiting response... 200 OK\n",
            "Length: 28542432 (27M) [application/octet-stream]\n",
            "Saving to: ‘gencode.vM25.annotation.gtf.gz’\n",
            "\n",
            "gencode.vM25.annota 100%[===================>]  27.22M   532KB/s    in 43s     \n",
            "\n",
            "2021-12-09 13:54:09 (645 KB/s) - ‘gencode.vM25.annotation.gtf.gz’ saved [28542432/28542432]\n",
            "\n"
          ]
        }
      ],
      "source": [
        "!wget http://ftp.ebi.ac.uk/pub/databases/gencode/Gencode_mouse/release_M25/gencode.vM25.annotation.gtf.gz"
      ]
    },
    {
      "cell_type": "code",
      "execution_count": null,
      "metadata": {
        "id": "K9RerBtX8iFF",
        "colab": {
          "base_uri": "https://localhost:8080/"
        },
        "outputId": "ca8f218e-1a64-4067-8830-9817f3e210e4"
      },
      "outputs": [
        {
          "output_type": "stream",
          "name": "stdout",
          "text": [
            "gzip: gencode.vM25.annotation.gtf already exists; do you wish to overwrite (y or n)? y\n"
          ]
        }
      ],
      "source": [
        "!gzip -d gencode.vM25.annotation.gtf.gz"
      ]
    },
    {
      "cell_type": "markdown",
      "metadata": {
        "id": "zzucvMQkzzs9"
      },
      "source": [
        "# Выравнивание чтений"
      ]
    },
    {
      "cell_type": "markdown",
      "metadata": {
        "id": "bH70xoP87343"
      },
      "source": [
        "**Ниже приведены примеры запуска только для одного файла. Вам следует сделать это для всех 6-ти файлов.**"
      ]
    },
    {
      "cell_type": "markdown",
      "metadata": {
        "id": "TRBfl7NL3xgN"
      },
      "source": [
        "* Для каждого образца запускаем FastQC. Скачиваем полученные html файлы и проверяем есть ли проблемы с файлами. Можно также установить multiqc и получить объединенный .html файл. Полученные результаты приводим в отчете на Github-е.\n",
        "\n"
      ]
    },
    {
      "cell_type": "code",
      "execution_count": null,
      "metadata": {
        "id": "ABkz3YC8cjhD",
        "colab": {
          "base_uri": "https://localhost:8080/"
        },
        "outputId": "bf3cce3a-103e-4f6a-a9dd-2288406768af"
      },
      "outputs": [
        {
          "output_type": "stream",
          "name": "stdout",
          "text": [
            "Started analysis of SRR3414629_1.fastq\n",
            "Approx 5% complete for SRR3414629_1.fastq\n",
            "Approx 10% complete for SRR3414629_1.fastq\n",
            "Approx 15% complete for SRR3414629_1.fastq\n",
            "Approx 20% complete for SRR3414629_1.fastq\n",
            "Approx 25% complete for SRR3414629_1.fastq\n",
            "Approx 30% complete for SRR3414629_1.fastq\n",
            "Approx 35% complete for SRR3414629_1.fastq\n",
            "Approx 40% complete for SRR3414629_1.fastq\n",
            "Approx 45% complete for SRR3414629_1.fastq\n",
            "Approx 50% complete for SRR3414629_1.fastq\n",
            "Approx 55% complete for SRR3414629_1.fastq\n",
            "Approx 60% complete for SRR3414629_1.fastq\n",
            "Approx 65% complete for SRR3414629_1.fastq\n",
            "Approx 70% complete for SRR3414629_1.fastq\n",
            "Approx 75% complete for SRR3414629_1.fastq\n",
            "Approx 80% complete for SRR3414629_1.fastq\n",
            "Approx 85% complete for SRR3414629_1.fastq\n",
            "Approx 90% complete for SRR3414629_1.fastq\n",
            "Approx 95% complete for SRR3414629_1.fastq\n",
            "Analysis complete for SRR3414629_1.fastq\n",
            "Started analysis of SRR3414630_1.fastq\n",
            "Approx 5% complete for SRR3414630_1.fastq\n",
            "Approx 10% complete for SRR3414630_1.fastq\n",
            "Approx 15% complete for SRR3414630_1.fastq\n",
            "Approx 20% complete for SRR3414630_1.fastq\n",
            "Approx 25% complete for SRR3414630_1.fastq\n",
            "Approx 30% complete for SRR3414630_1.fastq\n",
            "Approx 35% complete for SRR3414630_1.fastq\n",
            "Approx 40% complete for SRR3414630_1.fastq\n",
            "Approx 45% complete for SRR3414630_1.fastq\n",
            "Approx 50% complete for SRR3414630_1.fastq\n",
            "Approx 55% complete for SRR3414630_1.fastq\n",
            "Approx 60% complete for SRR3414630_1.fastq\n",
            "Approx 65% complete for SRR3414630_1.fastq\n",
            "Approx 70% complete for SRR3414630_1.fastq\n",
            "Approx 75% complete for SRR3414630_1.fastq\n",
            "Approx 80% complete for SRR3414630_1.fastq\n",
            "Approx 85% complete for SRR3414630_1.fastq\n",
            "Approx 90% complete for SRR3414630_1.fastq\n",
            "Approx 95% complete for SRR3414630_1.fastq\n",
            "Analysis complete for SRR3414630_1.fastq\n",
            "Started analysis of SRR3414631_1.fastq\n",
            "Approx 5% complete for SRR3414631_1.fastq\n",
            "Approx 10% complete for SRR3414631_1.fastq\n",
            "Approx 15% complete for SRR3414631_1.fastq\n",
            "Approx 20% complete for SRR3414631_1.fastq\n",
            "Approx 25% complete for SRR3414631_1.fastq\n",
            "Approx 30% complete for SRR3414631_1.fastq\n",
            "Approx 35% complete for SRR3414631_1.fastq\n",
            "Approx 40% complete for SRR3414631_1.fastq\n",
            "Approx 45% complete for SRR3414631_1.fastq\n",
            "Approx 50% complete for SRR3414631_1.fastq\n",
            "Approx 55% complete for SRR3414631_1.fastq\n",
            "Approx 60% complete for SRR3414631_1.fastq\n",
            "Approx 65% complete for SRR3414631_1.fastq\n",
            "Approx 70% complete for SRR3414631_1.fastq\n",
            "Approx 75% complete for SRR3414631_1.fastq\n",
            "Approx 80% complete for SRR3414631_1.fastq\n",
            "Approx 85% complete for SRR3414631_1.fastq\n",
            "Approx 90% complete for SRR3414631_1.fastq\n",
            "Approx 95% complete for SRR3414631_1.fastq\n",
            "Analysis complete for SRR3414631_1.fastq\n",
            "Started analysis of SRR3414635_1.fastq\n",
            "Approx 5% complete for SRR3414635_1.fastq\n",
            "Approx 10% complete for SRR3414635_1.fastq\n",
            "Approx 15% complete for SRR3414635_1.fastq\n",
            "Approx 20% complete for SRR3414635_1.fastq\n",
            "Approx 25% complete for SRR3414635_1.fastq\n",
            "Approx 30% complete for SRR3414635_1.fastq\n",
            "Approx 35% complete for SRR3414635_1.fastq\n",
            "Approx 40% complete for SRR3414635_1.fastq\n",
            "Approx 45% complete for SRR3414635_1.fastq\n",
            "Approx 50% complete for SRR3414635_1.fastq\n",
            "Approx 55% complete for SRR3414635_1.fastq\n",
            "Approx 60% complete for SRR3414635_1.fastq\n",
            "Approx 65% complete for SRR3414635_1.fastq\n",
            "Approx 70% complete for SRR3414635_1.fastq\n",
            "Approx 75% complete for SRR3414635_1.fastq\n",
            "Approx 80% complete for SRR3414635_1.fastq\n",
            "Approx 85% complete for SRR3414635_1.fastq\n",
            "Approx 90% complete for SRR3414635_1.fastq\n",
            "Approx 95% complete for SRR3414635_1.fastq\n",
            "Analysis complete for SRR3414635_1.fastq\n",
            "Started analysis of SRR3414636_1.fastq\n",
            "Approx 5% complete for SRR3414636_1.fastq\n",
            "Approx 10% complete for SRR3414636_1.fastq\n",
            "Approx 15% complete for SRR3414636_1.fastq\n",
            "Approx 20% complete for SRR3414636_1.fastq\n",
            "Approx 25% complete for SRR3414636_1.fastq\n",
            "Approx 30% complete for SRR3414636_1.fastq\n",
            "Approx 35% complete for SRR3414636_1.fastq\n",
            "Approx 40% complete for SRR3414636_1.fastq\n",
            "Approx 45% complete for SRR3414636_1.fastq\n",
            "Approx 50% complete for SRR3414636_1.fastq\n",
            "Approx 55% complete for SRR3414636_1.fastq\n",
            "Approx 60% complete for SRR3414636_1.fastq\n",
            "Approx 65% complete for SRR3414636_1.fastq\n",
            "Approx 70% complete for SRR3414636_1.fastq\n",
            "Approx 75% complete for SRR3414636_1.fastq\n",
            "Approx 80% complete for SRR3414636_1.fastq\n",
            "Approx 85% complete for SRR3414636_1.fastq\n",
            "Approx 90% complete for SRR3414636_1.fastq\n",
            "Approx 95% complete for SRR3414636_1.fastq\n",
            "Analysis complete for SRR3414636_1.fastq\n",
            "Started analysis of SRR3414637_1.fastq\n",
            "Approx 5% complete for SRR3414637_1.fastq\n",
            "Approx 10% complete for SRR3414637_1.fastq\n",
            "Approx 15% complete for SRR3414637_1.fastq\n",
            "Approx 20% complete for SRR3414637_1.fastq\n",
            "Approx 25% complete for SRR3414637_1.fastq\n",
            "Approx 30% complete for SRR3414637_1.fastq\n",
            "Approx 35% complete for SRR3414637_1.fastq\n",
            "Approx 40% complete for SRR3414637_1.fastq\n",
            "Approx 45% complete for SRR3414637_1.fastq\n",
            "Approx 50% complete for SRR3414637_1.fastq\n",
            "Approx 55% complete for SRR3414637_1.fastq\n",
            "Approx 60% complete for SRR3414637_1.fastq\n",
            "Approx 65% complete for SRR3414637_1.fastq\n",
            "Approx 70% complete for SRR3414637_1.fastq\n",
            "Approx 75% complete for SRR3414637_1.fastq\n",
            "Approx 80% complete for SRR3414637_1.fastq\n",
            "Approx 85% complete for SRR3414637_1.fastq\n",
            "Approx 90% complete for SRR3414637_1.fastq\n",
            "Approx 95% complete for SRR3414637_1.fastq\n",
            "Analysis complete for SRR3414637_1.fastq\n"
          ]
        }
      ],
      "source": [
        "!./FastQC/fastqc  /content/SRR*.fastq"
      ]
    },
    {
      "cell_type": "code",
      "source": [
        "!pip3 install multiqc"
      ],
      "metadata": {
        "colab": {
          "base_uri": "https://localhost:8080/"
        },
        "id": "aEvtqCx3JqG4",
        "outputId": "30e5ae41-b8ac-4f4e-d1f4-3035ec1146b7"
      },
      "execution_count": null,
      "outputs": [
        {
          "output_type": "stream",
          "name": "stdout",
          "text": [
            "Requirement already satisfied: multiqc in /usr/local/lib/python3.7/dist-packages (1.11)\n",
            "Requirement already satisfied: simplejson in /usr/local/lib/python3.7/dist-packages (from multiqc) (3.17.6)\n",
            "Requirement already satisfied: matplotlib>=2.1.1 in /usr/local/lib/python3.7/dist-packages (from multiqc) (3.2.2)\n",
            "Requirement already satisfied: coloredlogs in /usr/local/lib/python3.7/dist-packages (from multiqc) (15.0.1)\n",
            "Requirement already satisfied: numpy in /usr/local/lib/python3.7/dist-packages (from multiqc) (1.21.4)\n",
            "Requirement already satisfied: jinja2>=2.9 in /usr/local/lib/python3.7/dist-packages (from multiqc) (2.11.3)\n",
            "Requirement already satisfied: click in /usr/local/lib/python3.7/dist-packages (from multiqc) (7.1.2)\n",
            "Requirement already satisfied: lzstring in /usr/local/lib/python3.7/dist-packages (from multiqc) (1.0.4)\n",
            "Requirement already satisfied: pyyaml>=4 in /usr/local/lib/python3.7/dist-packages (from multiqc) (6.0)\n",
            "Requirement already satisfied: requests in /usr/local/lib/python3.7/dist-packages (from multiqc) (2.23.0)\n",
            "Requirement already satisfied: spectra>=0.0.10 in /usr/local/lib/python3.7/dist-packages (from multiqc) (0.0.11)\n",
            "Requirement already satisfied: rich>=10 in /usr/local/lib/python3.7/dist-packages (from multiqc) (10.15.2)\n",
            "Requirement already satisfied: future>0.14.0 in /usr/local/lib/python3.7/dist-packages (from multiqc) (0.16.0)\n",
            "Requirement already satisfied: markdown in /usr/local/lib/python3.7/dist-packages (from multiqc) (3.3.6)\n",
            "Requirement already satisfied: networkx>=2.5.1 in /usr/local/lib/python3.7/dist-packages (from multiqc) (2.6.3)\n",
            "Requirement already satisfied: MarkupSafe>=0.23 in /usr/local/lib/python3.7/dist-packages (from jinja2>=2.9->multiqc) (2.0.1)\n",
            "Requirement already satisfied: python-dateutil>=2.1 in /usr/local/lib/python3.7/dist-packages (from matplotlib>=2.1.1->multiqc) (2.8.2)\n",
            "Requirement already satisfied: pyparsing!=2.0.4,!=2.1.2,!=2.1.6,>=2.0.1 in /usr/local/lib/python3.7/dist-packages (from matplotlib>=2.1.1->multiqc) (3.0.6)\n",
            "Requirement already satisfied: kiwisolver>=1.0.1 in /usr/local/lib/python3.7/dist-packages (from matplotlib>=2.1.1->multiqc) (1.3.2)\n",
            "Requirement already satisfied: cycler>=0.10 in /usr/local/lib/python3.7/dist-packages (from matplotlib>=2.1.1->multiqc) (0.11.0)\n",
            "Requirement already satisfied: six>=1.5 in /usr/local/lib/python3.7/dist-packages (from python-dateutil>=2.1->matplotlib>=2.1.1->multiqc) (1.15.0)\n",
            "Requirement already satisfied: colorama<0.5.0,>=0.4.0 in /usr/local/lib/python3.7/dist-packages (from rich>=10->multiqc) (0.4.4)\n",
            "Requirement already satisfied: typing-extensions<5.0,>=3.7.4 in /usr/local/lib/python3.7/dist-packages (from rich>=10->multiqc) (3.10.0.2)\n",
            "Requirement already satisfied: commonmark<0.10.0,>=0.9.0 in /usr/local/lib/python3.7/dist-packages (from rich>=10->multiqc) (0.9.1)\n",
            "Requirement already satisfied: pygments<3.0.0,>=2.6.0 in /usr/local/lib/python3.7/dist-packages (from rich>=10->multiqc) (2.6.1)\n",
            "Requirement already satisfied: colormath>=3.0.0 in /usr/local/lib/python3.7/dist-packages (from spectra>=0.0.10->multiqc) (3.0.0)\n",
            "Requirement already satisfied: humanfriendly>=9.1 in /usr/local/lib/python3.7/dist-packages (from coloredlogs->multiqc) (10.0)\n",
            "Requirement already satisfied: importlib-metadata>=4.4 in /usr/local/lib/python3.7/dist-packages (from markdown->multiqc) (4.8.2)\n",
            "Requirement already satisfied: zipp>=0.5 in /usr/local/lib/python3.7/dist-packages (from importlib-metadata>=4.4->markdown->multiqc) (3.6.0)\n",
            "Requirement already satisfied: certifi>=2017.4.17 in /usr/local/lib/python3.7/dist-packages (from requests->multiqc) (2021.10.8)\n",
            "Requirement already satisfied: idna<3,>=2.5 in /usr/local/lib/python3.7/dist-packages (from requests->multiqc) (2.10)\n",
            "Requirement already satisfied: urllib3!=1.25.0,!=1.25.1,<1.26,>=1.21.1 in /usr/local/lib/python3.7/dist-packages (from requests->multiqc) (1.24.3)\n",
            "Requirement already satisfied: chardet<4,>=3.0.2 in /usr/local/lib/python3.7/dist-packages (from requests->multiqc) (3.0.4)\n"
          ]
        }
      ]
    },
    {
      "cell_type": "code",
      "source": [
        "!multiqc /content/*fastqc.zip"
      ],
      "metadata": {
        "colab": {
          "base_uri": "https://localhost:8080/"
        },
        "id": "z1ZjITv7JhGO",
        "outputId": "c70bd2f7-9207-4e95-c111-5e0d3417520e"
      },
      "execution_count": null,
      "outputs": [
        {
          "output_type": "stream",
          "name": "stdout",
          "text": [
            "\n",
            "  \u001b[34m/\u001b[0m\u001b[32m/\u001b[0m\u001b[31m/\u001b[0m \u001b]8;id=419742;https://multiqc.info\u001b\\\u001b[1mMultiQC\u001b[0m\u001b]8;;\u001b\\ 🔍 \u001b[2m| v1.11\u001b[0m\n",
            "\n",
            "\u001b[34m|           multiqc\u001b[0m | Search path : /content/SRR3414629_1_fastqc.zip\n",
            "\u001b[34m|           multiqc\u001b[0m | Search path : /content/SRR3414630_1_fastqc.zip\n",
            "\u001b[34m|           multiqc\u001b[0m | Search path : /content/SRR3414631_1_fastqc.zip\n",
            "\u001b[34m|           multiqc\u001b[0m | Search path : /content/SRR3414635_1_fastqc.zip\n",
            "\u001b[34m|           multiqc\u001b[0m | Search path : /content/SRR3414636_1_fastqc.zip\n",
            "\u001b[34m|           multiqc\u001b[0m | Search path : /content/SRR3414637_1_fastqc.zip\n",
            "\u001b[2K\u001b[34m|\u001b[0m         \u001b[34msearching\u001b[0m | \u001b[90m━━━━━━━━━━━━━━━━━━━━━━━━━━━━━━━━━━━━━━━━\u001b[0m \u001b[35m100%\u001b[0m \u001b[32m6/6\u001b[0m  \n",
            "\u001b[?25h\u001b[34m|            fastqc\u001b[0m | Found 6 reports\n",
            "\u001b[34m|           multiqc\u001b[0m | Compressing plot data\n",
            "\u001b[34m|           multiqc\u001b[0m | Report      : multiqc_report.html\n",
            "\u001b[34m|           multiqc\u001b[0m | Data        : multiqc_data\n",
            "\u001b[34m|           multiqc\u001b[0m | MultiQC complete\n"
          ]
        }
      ]
    },
    {
      "cell_type": "markdown",
      "metadata": {
        "id": "b23N89JW4Eeg"
      },
      "source": [
        "* Запускаем HISAT2 и картируем все чтения на геном мыши.\n",
        "* Общее кол-во чтений, и кол-во, которое удалось успешно откартировать (уникально и не уникально), указано в файле SRR3414636.hisat. Приводим эту информацию в отчете на Github"
      ]
    },
    {
      "cell_type": "code",
      "source": [
        "import os\n",
        "import pandas as pd\n",
        "import numpy as np\n",
        "import re"
      ],
      "metadata": {
        "id": "ORAT15bTOmtO"
      },
      "execution_count": null,
      "outputs": []
    },
    {
      "cell_type": "code",
      "source": [
        "def calculations(name):\n",
        "  os.system(f'hisat2 -p 3 -x mm10/genome -U {name}_1.fastq -S {name}_1.sam 2 > {name}_1.hisat')\n",
        "  os.system(f'grep -P \"^@|NH:i:1$\" {name}_1.sam > {name}.uniq.sam')\n",
        "  os.system(f'htseq-count --format=sam --stranded=no {name}.uniq.sam  gencode.vM25.annotation.gtf > {name}.counts')\n",
        "  os.system(f'grep -v \"^@\" {name}.uniq.sam | wc -l > {name}.stats')"
      ],
      "metadata": {
        "id": "6V7FLudWOkMJ"
      },
      "execution_count": null,
      "outputs": []
    },
    {
      "cell_type": "code",
      "source": [
        "specimen = {'SRR3414629' : 'r1', 'SRR3414630' : 'r2', 'SRR3414631' : 'r3', \n",
        "            'SRR3414635' : 'c1', 'SRR3414636' : 'c2', 'SRR3414637' : 'c3'}"
      ],
      "metadata": {
        "id": "u60oZcEwPL0y"
      },
      "execution_count": null,
      "outputs": []
    },
    {
      "cell_type": "code",
      "source": [
        "calculations(name='SRR3414636')"
      ],
      "metadata": {
        "id": "G-ssKSM3QA6g"
      },
      "execution_count": null,
      "outputs": []
    },
    {
      "cell_type": "code",
      "source": [
        "!rm SRR3414636_1.sam SRR3414636.uniq.sam SRR3414636_1.fastq"
      ],
      "metadata": {
        "id": "Kd-feM81myd0"
      },
      "execution_count": null,
      "outputs": []
    },
    {
      "cell_type": "code",
      "source": [
        "calculations(name='SRR3414631')"
      ],
      "metadata": {
        "id": "nMtj8NqmkgFa"
      },
      "execution_count": null,
      "outputs": []
    },
    {
      "cell_type": "code",
      "source": [
        "def remove(name):\n",
        "  os.system(f'rm {name}_1.fastq {name}_1.sam {name}.uniq.sam')"
      ],
      "metadata": {
        "id": "V325-6IImVKf"
      },
      "execution_count": null,
      "outputs": []
    },
    {
      "cell_type": "code",
      "source": [
        "for name in ['SRR3414635', 'SRR3414637', 'SRR3414630']:\n",
        "  calculations(name)\n",
        "  remove(name)"
      ],
      "metadata": {
        "id": "fl56TzDBuFQ_"
      },
      "execution_count": null,
      "outputs": []
    },
    {
      "cell_type": "markdown",
      "metadata": {
        "id": "lQ-ryqO0BiDp"
      },
      "source": [
        "* Объединям все файлы .counts по генам в один общий файл `ALL.counts`.\n",
        "* В качестве заголовка для каждого образца указывать не его SRR id, а c1, c2, c3 для контрольных образцов и r1, r2, r3 для перепрограммированных образцов.\n",
        "* Загружаем полученный ALL.counts файл в Github репозиторий"
      ]
    },
    {
      "cell_type": "code",
      "source": [
        "df = pd.DataFrame(np.empty((0, 6)), \n",
        "                  columns=['r1', 'r2', 'r3','c1', 'c2', 'c3'])\n",
        "\n",
        "for name in specimen.keys():\n",
        "  with open(f'{name}.counts') as handle:\n",
        "    text = handle.readlines()\n",
        "    for line in text:\n",
        "      gene, number = line.split()\n",
        "      if gene not in df.index:\n",
        "        df.append(pd.Series(name=gene))\n",
        "      df.loc[gene, specimen[name]] = int(number)"
      ],
      "metadata": {
        "colab": {
          "base_uri": "https://localhost:8080/"
        },
        "id": "dVgvxpsBKr0c",
        "outputId": "6b9dfbee-0225-473a-f7cf-0dd8380a1df0"
      },
      "execution_count": null,
      "outputs": [
        {
          "output_type": "stream",
          "name": "stderr",
          "text": [
            "/usr/local/lib/python3.7/dist-packages/ipykernel_launcher.py:10: DeprecationWarning: The default dtype for empty Series will be 'object' instead of 'float64' in a future version. Specify a dtype explicitly to silence this warning.\n",
            "  # Remove the CWD from sys.path while we load stuff.\n"
          ]
        }
      ]
    },
    {
      "cell_type": "code",
      "source": [
        "df"
      ],
      "metadata": {
        "colab": {
          "base_uri": "https://localhost:8080/",
          "height": 417
        },
        "id": "nDz86Hl4dKE-",
        "outputId": "759e1660-5cff-4998-9b88-d9b24b91474a"
      },
      "execution_count": null,
      "outputs": [
        {
          "output_type": "execute_result",
          "data": {
            "text/html": [
              "<div>\n",
              "<style scoped>\n",
              "    .dataframe tbody tr th:only-of-type {\n",
              "        vertical-align: middle;\n",
              "    }\n",
              "\n",
              "    .dataframe tbody tr th {\n",
              "        vertical-align: top;\n",
              "    }\n",
              "\n",
              "    .dataframe thead th {\n",
              "        text-align: right;\n",
              "    }\n",
              "</style>\n",
              "<table border=\"1\" class=\"dataframe\">\n",
              "  <thead>\n",
              "    <tr style=\"text-align: right;\">\n",
              "      <th></th>\n",
              "      <th>r1</th>\n",
              "      <th>r2</th>\n",
              "      <th>r3</th>\n",
              "      <th>c1</th>\n",
              "      <th>c2</th>\n",
              "      <th>c3</th>\n",
              "    </tr>\n",
              "  </thead>\n",
              "  <tbody>\n",
              "    <tr>\n",
              "      <th>ENSMUSG00000000001.4</th>\n",
              "      <td>4489.0</td>\n",
              "      <td>3919.0</td>\n",
              "      <td>5700.0</td>\n",
              "      <td>3431.0</td>\n",
              "      <td>3504.0</td>\n",
              "      <td>4031.0</td>\n",
              "    </tr>\n",
              "    <tr>\n",
              "      <th>ENSMUSG00000000003.15</th>\n",
              "      <td>0.0</td>\n",
              "      <td>0.0</td>\n",
              "      <td>0.0</td>\n",
              "      <td>0.0</td>\n",
              "      <td>0.0</td>\n",
              "      <td>0.0</td>\n",
              "    </tr>\n",
              "    <tr>\n",
              "      <th>ENSMUSG00000000028.15</th>\n",
              "      <td>345.0</td>\n",
              "      <td>273.0</td>\n",
              "      <td>468.0</td>\n",
              "      <td>150.0</td>\n",
              "      <td>136.0</td>\n",
              "      <td>152.0</td>\n",
              "    </tr>\n",
              "    <tr>\n",
              "      <th>ENSMUSG00000000031.16</th>\n",
              "      <td>64504.0</td>\n",
              "      <td>33249.0</td>\n",
              "      <td>64992.0</td>\n",
              "      <td>55526.0</td>\n",
              "      <td>48225.0</td>\n",
              "      <td>56064.0</td>\n",
              "    </tr>\n",
              "    <tr>\n",
              "      <th>ENSMUSG00000000037.17</th>\n",
              "      <td>77.0</td>\n",
              "      <td>68.0</td>\n",
              "      <td>87.0</td>\n",
              "      <td>41.0</td>\n",
              "      <td>44.0</td>\n",
              "      <td>52.0</td>\n",
              "    </tr>\n",
              "    <tr>\n",
              "      <th>...</th>\n",
              "      <td>...</td>\n",
              "      <td>...</td>\n",
              "      <td>...</td>\n",
              "      <td>...</td>\n",
              "      <td>...</td>\n",
              "      <td>...</td>\n",
              "    </tr>\n",
              "    <tr>\n",
              "      <th>__no_feature</th>\n",
              "      <td>1604107.0</td>\n",
              "      <td>1240295.0</td>\n",
              "      <td>1700354.0</td>\n",
              "      <td>1392186.0</td>\n",
              "      <td>1332692.0</td>\n",
              "      <td>1397650.0</td>\n",
              "    </tr>\n",
              "    <tr>\n",
              "      <th>__ambiguous</th>\n",
              "      <td>722172.0</td>\n",
              "      <td>480520.0</td>\n",
              "      <td>819740.0</td>\n",
              "      <td>760134.0</td>\n",
              "      <td>735108.0</td>\n",
              "      <td>710230.0</td>\n",
              "    </tr>\n",
              "    <tr>\n",
              "      <th>__too_low_aQual</th>\n",
              "      <td>0.0</td>\n",
              "      <td>0.0</td>\n",
              "      <td>0.0</td>\n",
              "      <td>0.0</td>\n",
              "      <td>0.0</td>\n",
              "      <td>0.0</td>\n",
              "    </tr>\n",
              "    <tr>\n",
              "      <th>__not_aligned</th>\n",
              "      <td>0.0</td>\n",
              "      <td>0.0</td>\n",
              "      <td>0.0</td>\n",
              "      <td>0.0</td>\n",
              "      <td>0.0</td>\n",
              "      <td>0.0</td>\n",
              "    </tr>\n",
              "    <tr>\n",
              "      <th>__alignment_not_unique</th>\n",
              "      <td>0.0</td>\n",
              "      <td>0.0</td>\n",
              "      <td>0.0</td>\n",
              "      <td>0.0</td>\n",
              "      <td>0.0</td>\n",
              "      <td>0.0</td>\n",
              "    </tr>\n",
              "  </tbody>\n",
              "</table>\n",
              "<p>55406 rows × 6 columns</p>\n",
              "</div>"
            ],
            "text/plain": [
              "                               r1         r2  ...         c2         c3\n",
              "ENSMUSG00000000001.4       4489.0     3919.0  ...     3504.0     4031.0\n",
              "ENSMUSG00000000003.15         0.0        0.0  ...        0.0        0.0\n",
              "ENSMUSG00000000028.15       345.0      273.0  ...      136.0      152.0\n",
              "ENSMUSG00000000031.16     64504.0    33249.0  ...    48225.0    56064.0\n",
              "ENSMUSG00000000037.17        77.0       68.0  ...       44.0       52.0\n",
              "...                           ...        ...  ...        ...        ...\n",
              "__no_feature            1604107.0  1240295.0  ...  1332692.0  1397650.0\n",
              "__ambiguous              722172.0   480520.0  ...   735108.0   710230.0\n",
              "__too_low_aQual               0.0        0.0  ...        0.0        0.0\n",
              "__not_aligned                 0.0        0.0  ...        0.0        0.0\n",
              "__alignment_not_unique        0.0        0.0  ...        0.0        0.0\n",
              "\n",
              "[55406 rows x 6 columns]"
            ]
          },
          "metadata": {},
          "execution_count": 12
        }
      ]
    },
    {
      "cell_type": "code",
      "source": [
        "\n",
        "df.to_csv('ALL.counts', index=True)"
      ],
      "metadata": {
        "id": "xl-vVNSXK87f"
      },
      "execution_count": null,
      "outputs": []
    },
    {
      "cell_type": "code",
      "source": [
        "another_df = pd.DataFrame(data = {'id' : ['SRR3414629', 'SRR3414630', 'SRR3414631', 'SRR3414635', 'SRR3414636', 'SRR3414637'],\n",
        "                                'condition' : ['reprogramming', 'reprogramming', 'reprogramming', 'control', 'control', 'control']},\n",
        "                                index = ['r1','r2','r3','c1', 'c2', 'c3'])\n",
        "another_df"
      ],
      "metadata": {
        "id": "EfAIzrZWOx1n",
        "colab": {
          "base_uri": "https://localhost:8080/",
          "height": 234
        },
        "outputId": "ef990def-9b0f-4fc7-a174-1c9a49120334"
      },
      "execution_count": null,
      "outputs": [
        {
          "output_type": "execute_result",
          "data": {
            "text/html": [
              "<div>\n",
              "<style scoped>\n",
              "    .dataframe tbody tr th:only-of-type {\n",
              "        vertical-align: middle;\n",
              "    }\n",
              "\n",
              "    .dataframe tbody tr th {\n",
              "        vertical-align: top;\n",
              "    }\n",
              "\n",
              "    .dataframe thead th {\n",
              "        text-align: right;\n",
              "    }\n",
              "</style>\n",
              "<table border=\"1\" class=\"dataframe\">\n",
              "  <thead>\n",
              "    <tr style=\"text-align: right;\">\n",
              "      <th></th>\n",
              "      <th>id</th>\n",
              "      <th>condition</th>\n",
              "    </tr>\n",
              "  </thead>\n",
              "  <tbody>\n",
              "    <tr>\n",
              "      <th>r1</th>\n",
              "      <td>SRR3414629</td>\n",
              "      <td>reprogramming</td>\n",
              "    </tr>\n",
              "    <tr>\n",
              "      <th>r2</th>\n",
              "      <td>SRR3414630</td>\n",
              "      <td>reprogramming</td>\n",
              "    </tr>\n",
              "    <tr>\n",
              "      <th>r3</th>\n",
              "      <td>SRR3414631</td>\n",
              "      <td>reprogramming</td>\n",
              "    </tr>\n",
              "    <tr>\n",
              "      <th>c1</th>\n",
              "      <td>SRR3414635</td>\n",
              "      <td>control</td>\n",
              "    </tr>\n",
              "    <tr>\n",
              "      <th>c2</th>\n",
              "      <td>SRR3414636</td>\n",
              "      <td>control</td>\n",
              "    </tr>\n",
              "    <tr>\n",
              "      <th>c3</th>\n",
              "      <td>SRR3414637</td>\n",
              "      <td>control</td>\n",
              "    </tr>\n",
              "  </tbody>\n",
              "</table>\n",
              "</div>"
            ],
            "text/plain": [
              "            id      condition\n",
              "r1  SRR3414629  reprogramming\n",
              "r2  SRR3414630  reprogramming\n",
              "r3  SRR3414631  reprogramming\n",
              "c1  SRR3414635        control\n",
              "c2  SRR3414636        control\n",
              "c3  SRR3414637        control"
            ]
          },
          "metadata": {},
          "execution_count": 5
        }
      ]
    },
    {
      "cell_type": "code",
      "source": [
        "another_df.index.name='sample'\n",
        "another_df.to_csv('ALL.info', index=True)"
      ],
      "metadata": {
        "id": "NQbjsryCQsP4"
      },
      "execution_count": null,
      "outputs": []
    },
    {
      "cell_type": "code",
      "source": [
        ""
      ],
      "metadata": {
        "id": "NtLGhzK2REFR"
      },
      "execution_count": null,
      "outputs": []
    }
  ],
  "metadata": {
    "colab": {
      "collapsed_sections": [],
      "name": "hse21_HW3 I.ipynb",
      "provenance": []
    },
    "kernelspec": {
      "display_name": "Python 3",
      "name": "python3"
    },
    "language_info": {
      "name": "python"
    }
  },
  "nbformat": 4,
  "nbformat_minor": 0
}